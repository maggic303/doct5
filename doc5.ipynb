{
 "cells": [
  {
   "attachments": {},
   "cell_type": "markdown",
   "metadata": {},
   "source": [
    "#### 使用 Anserini 重现 MS MARCO 段落排名结果 ####"
   ]
  },
  {
   "cell_type": "code",
   "execution_count": null,
   "metadata": {},
   "outputs": [],
   "source": [
    "# 在将预测查询附加到段落之前，我们需要将它们连接起来\n",
    "!sh 1.sh"
   ]
  },
  {
   "cell_type": "code",
   "execution_count": null,
   "metadata": {},
   "outputs": [],
   "source": [
    "# 作为完整性检查：\n",
    "# 输出结果应该是  8841823 2253863941 12517353325 predicted_queries_topk.txt-1004000\n",
    "!cd /data/students/nieyj/code/docT5query/passage-predictions\n",
    "!wc predicted_queries_topk.txt-1004000"
   ]
  },
  {
   "cell_type": "code",
   "execution_count": 2,
   "metadata": {},
   "outputs": [
    {
     "name": "stdout",
     "output_type": "stream",
     "text": [
      "Converting collection...\n",
      "Converted 0 docs in 1 files\n",
      "Converted 100000 docs in 1 files\n",
      "Converted 200000 docs in 1 files\n",
      "Converted 300000 docs in 1 files\n",
      "Converted 400000 docs in 1 files\n",
      "Converted 500000 docs in 1 files\n",
      "Converted 600000 docs in 1 files\n",
      "Converted 700000 docs in 1 files\n",
      "Converted 800000 docs in 1 files\n",
      "Converted 900000 docs in 1 files\n",
      "Converted 1000000 docs in 2 files\n",
      "Converted 1100000 docs in 2 files\n",
      "Converted 1200000 docs in 2 files\n",
      "Converted 1300000 docs in 2 files\n",
      "Converted 1400000 docs in 2 files\n",
      "Converted 1500000 docs in 2 files\n",
      "Converted 1600000 docs in 2 files\n",
      "Converted 1700000 docs in 2 files\n",
      "Converted 1800000 docs in 2 files\n",
      "Converted 1900000 docs in 2 files\n",
      "Converted 2000000 docs in 3 files\n",
      "Converted 2100000 docs in 3 files\n",
      "Converted 2200000 docs in 3 files\n",
      "Converted 2300000 docs in 3 files\n",
      "Converted 2400000 docs in 3 files\n",
      "Converted 2500000 docs in 3 files\n",
      "Converted 2600000 docs in 3 files\n",
      "Converted 2700000 docs in 3 files\n",
      "Converted 2800000 docs in 3 files\n",
      "Converted 2900000 docs in 3 files\n",
      "Converted 3000000 docs in 4 files\n",
      "Converted 3100000 docs in 4 files\n",
      "Converted 3200000 docs in 4 files\n",
      "Converted 3300000 docs in 4 files\n",
      "Converted 3400000 docs in 4 files\n",
      "Converted 3500000 docs in 4 files\n",
      "Converted 3600000 docs in 4 files\n",
      "Converted 3700000 docs in 4 files\n",
      "Converted 3800000 docs in 4 files\n",
      "Converted 3900000 docs in 4 files\n",
      "Converted 4000000 docs in 5 files\n",
      "Converted 4100000 docs in 5 files\n",
      "Converted 4200000 docs in 5 files\n",
      "Converted 4300000 docs in 5 files\n",
      "Converted 4400000 docs in 5 files\n",
      "Converted 4500000 docs in 5 files\n",
      "Converted 4600000 docs in 5 files\n",
      "Converted 4700000 docs in 5 files\n",
      "Converted 4800000 docs in 5 files\n",
      "Converted 4900000 docs in 5 files\n",
      "Converted 5000000 docs in 6 files\n",
      "Converted 5100000 docs in 6 files\n",
      "Converted 5200000 docs in 6 files\n",
      "Converted 5300000 docs in 6 files\n",
      "Converted 5400000 docs in 6 files\n",
      "Converted 5500000 docs in 6 files\n",
      "Converted 5600000 docs in 6 files\n",
      "Converted 5700000 docs in 6 files\n",
      "Converted 5800000 docs in 6 files\n",
      "Converted 5900000 docs in 6 files\n",
      "Converted 6000000 docs in 7 files\n",
      "Converted 6100000 docs in 7 files\n",
      "Converted 6200000 docs in 7 files\n",
      "Converted 6300000 docs in 7 files\n",
      "Converted 6400000 docs in 7 files\n",
      "Converted 6500000 docs in 7 files\n",
      "Converted 6600000 docs in 7 files\n",
      "Converted 6700000 docs in 7 files\n",
      "Converted 6800000 docs in 7 files\n",
      "Converted 6900000 docs in 7 files\n",
      "Converted 7000000 docs in 8 files\n",
      "Converted 7100000 docs in 8 files\n",
      "Converted 7200000 docs in 8 files\n",
      "Converted 7300000 docs in 8 files\n",
      "Converted 7400000 docs in 8 files\n",
      "Converted 7500000 docs in 8 files\n",
      "Converted 7600000 docs in 8 files\n",
      "Converted 7700000 docs in 8 files\n",
      "Converted 7800000 docs in 8 files\n",
      "Converted 7900000 docs in 8 files\n",
      "Converted 8000000 docs in 9 files\n",
      "Converted 8100000 docs in 9 files\n",
      "Converted 8200000 docs in 9 files\n",
      "Converted 8300000 docs in 9 files\n",
      "Converted 8400000 docs in 9 files\n",
      "Converted 8500000 docs in 9 files\n",
      "Converted 8600000 docs in 9 files\n",
      "Converted 8700000 docs in 9 files\n",
      "Converted 8800000 docs in 9 files\n",
      "Done!\n"
     ]
    }
   ],
   "source": [
    "# 将预测查询附加到原始 MS MARCO 段落集合中：\n",
    "# 输出在 /data/students/nieyj/code/docT5query/output/msmarco-passage-expanded\n",
    "!python /data/students/nieyj/code/docT5query/convert_msmarco_passage_to_anserini.py \\\n",
    "  --collection_path=/data/students/nieyj/code/docT5query/data/collection.tsv \\\n",
    "  --predictions=/data/students/nieyj/code/docT5query/passage-predictions/predicted_queries_topk.txt-1004000 \\\n",
    "  --output_folder=/data/students/nieyj/code/docT5query/output/msmarco-passage-expanded"
   ]
  },
  {
   "cell_type": "code",
   "execution_count": 5,
   "metadata": {},
   "outputs": [
    {
     "name": "stdout",
     "output_type": "stream",
     "text": [
      "Error: A JNI error has occurred, please check your installation and try again\n",
      "Exception in thread \"main\" java.lang.UnsupportedClassVersionError: io/anserini/index/IndexCollection has been compiled by a more recent version of the Java Runtime (class file version 55.0), this version of the Java Runtime only recognizes class file versions up to 52.0\n",
      "\tat java.lang.ClassLoader.defineClass1(Native Method)\n",
      "\tat java.lang.ClassLoader.defineClass(ClassLoader.java:756)\n",
      "\tat java.security.SecureClassLoader.defineClass(SecureClassLoader.java:142)\n",
      "\tat java.net.URLClassLoader.defineClass(URLClassLoader.java:473)\n",
      "\tat java.net.URLClassLoader.access$100(URLClassLoader.java:74)\n",
      "\tat java.net.URLClassLoader$1.run(URLClassLoader.java:369)\n",
      "\tat java.net.URLClassLoader$1.run(URLClassLoader.java:363)\n",
      "\tat java.security.AccessController.doPrivileged(Native Method)\n",
      "\tat java.net.URLClassLoader.findClass(URLClassLoader.java:362)\n",
      "\tat java.lang.ClassLoader.loadClass(ClassLoader.java:418)\n",
      "\tat sun.misc.Launcher$AppClassLoader.loadClass(Launcher.java:355)\n",
      "\tat java.lang.ClassLoader.loadClass(ClassLoader.java:351)\n",
      "\tat sun.launcher.LauncherHelper.checkAndLoadMain(LauncherHelper.java:601)\n"
     ]
    }
   ],
   "source": [
    "# 在扩展的段落上使用 Anserini 创建一个索引（我们假设 Anserini 被克隆为一个子目录）：\n",
    "# 要在命令行输入\n",
    "!sh /data/students/nieyj/code/docT5query/anserini/target/appassembler/bin/IndexCollection \\\n",
    "  -collection JsonCollection -generator DefaultLuceneDocumentGenerator \\\n",
    "  -threads 9 -input /data/students/nieyj/code/docT5query/output/msmarco-passage-expanded -index lucene-index-msmarco-passage-expanded"
   ]
  },
  {
   "cell_type": "code",
   "execution_count": 2,
   "metadata": {},
   "outputs": [
    {
     "name": "stdout",
     "output_type": "stream",
     "text": [
      "^C\n"
     ]
    }
   ],
   "source": [
    "# https://github.com/castorini/anserini/blob/master/docs/regressions-msmarco-doc.md\n",
    "# 一旦扩展的段落被索引，我们可以为 MS MARCO 开发集的每个查询检索 1000 个段落：\n",
    "# lucene-index-msmarco-passage-expanded 在路径 /data/students/nieyj/code/docT5query/data\n",
    "!sh /data/students/nieyj/code/docT5query/anserini/target/appassembler/bin/SearchCollection \\\n",
    "  -index /data/students/nieyj/code/docT5query/data/lucene-index-msmarco-passage-expanded -topics /data/students/nieyj/code/docT5query/data/queries.dev.small.tsv \\\n",
    "  -topicreader TsvInt \\\n",
    "  -output /data/students/nieyj/code/docT5query/anserini/runs/run.msmarco-passage-expanded.dev.small.txt \\\n",
    "  -bm25 \\\n",
    "  -hits 1000 -threads 8"
   ]
  },
  {
   "cell_type": "code",
   "execution_count": null,
   "metadata": {},
   "outputs": [],
   "source": [
    "# 最后，我们使用 MS MARCO eval 脚本评估结果（旧版不能用）\n",
    "!python /data/students/nieyj/code/docT5query/anserini/tools/scripts/msmarco/msmarco_doc_eval.py  --judgments /data/students/nieyj/code/docT5query/data/qrels.dev.small.tsv --run /data/students/nieyj/code/docT5query/anserini/runs/run.msmarco-passage-expanded.dev.small.txt"
   ]
  },
  {
   "cell_type": "code",
   "execution_count": 1,
   "metadata": {},
   "outputs": [
    {
     "name": "stdout",
     "output_type": "stream",
     "text": [
      "map                   \tall\t0.2805\n",
      "recip_rank            \tall\t0.2842\n",
      "recall_100            \tall\t0.8192\n",
      "recall_1000           \tall\t0.9470\n"
     ]
    }
   ],
   "source": [
    "#可以使用以下方法进行评估trec_eval:(使用新版评估)\n",
    "!/data/students/nieyj/code/docT5query/anserini/tools/eval/trec_eval.9.0.4/trec_eval -c -m map /data/students/nieyj/code/docT5query/data/qrels.dev.small.txt /data/students/nieyj/code/docT5query/anserini/runs/run.msmarco-passage-expanded.dev.small.txt\n",
    "!/data/students/nieyj/code/docT5query/anserini/tools/eval/trec_eval.9.0.4/trec_eval -c -M 100 -m recip_rank /data/students/nieyj/code/docT5query/data/qrels.dev.small.txt /data/students/nieyj/code/docT5query/anserini/runs/run.msmarco-passage-expanded.dev.small.txt\n",
    "!/data/students/nieyj/code/docT5query/anserini/tools/eval/trec_eval.9.0.4/trec_eval -c -m recall.100 /data/students/nieyj/code/docT5query/data/qrels.dev.small.txt /data/students/nieyj/code/docT5query/anserini/runs/run.msmarco-passage-expanded.dev.small.txt\n",
    "!/data/students/nieyj/code/docT5query/anserini/tools/eval/trec_eval.9.0.4/trec_eval -c -m recall.1000 /data/students/nieyj/code/docT5query/data/qrels.dev.small.txt /data/students/nieyj/code/docT5query/anserini/runs/run.msmarco-passage-expanded.dev.small.txt"
   ]
  },
  {
   "cell_type": "code",
   "execution_count": null,
   "metadata": {},
   "outputs": [],
   "source": [
    "# 可以使用以下方法进行评估trec_eval（源码，不用）：\n",
    "tools/eval/trec_eval.9.0.4/trec_eval -c -m map src/main/resources/topics-and-qrels/qrels.msmarco-doc.dev.txt runs/run.msmarco-doc.bm25-default.topics.msmarco-doc.dev.txt\n",
    "tools/eval/trec_eval.9.0.4/trec_eval -c -M 100 -m recip_rank src/main/resources/topics-and-qrels/qrels.msmarco-doc.dev.txt runs/run.msmarco-doc.bm25-default.topics.msmarco-doc.dev.txt\n",
    "tools/eval/trec_eval.9.0.4/trec_eval -c -m recall.100 src/main/resources/topics-and-qrels/qrels.msmarco-doc.dev.txt runs/run.msmarco-doc.bm25-default.topics.msmarco-doc.dev.txt\n",
    "tools/eval/trec_eval.9.0.4/trec_eval -c -m recall.1000 src/main/resources/topics-and-qrels/qrels.msmarco-doc.dev.txt runs/run.msmarco-doc.bm25-default.topics.msmarco-doc.dev.txt\n",
    "\n",
    "tools/eval/trec_eval.9.0.4/trec_eval -c -m map src/main/resources/topics-and-qrels/qrels.msmarco-doc.dev.txt runs/run.msmarco-doc.bm25-default+rm3.topics.msmarco-doc.dev.txt\n",
    "tools/eval/trec_eval.9.0.4/trec_eval -c -M 100 -m recip_rank src/main/resources/topics-and-qrels/qrels.msmarco-doc.dev.txt runs/run.msmarco-doc.bm25-default+rm3.topics.msmarco-doc.dev.txt\n",
    "tools/eval/trec_eval.9.0.4/trec_eval -c -m recall.100 src/main/resources/topics-and-qrels/qrels.msmarco-doc.dev.txt runs/run.msmarco-doc.bm25-default+rm3.topics.msmarco-doc.dev.txt\n",
    "tools/eval/trec_eval.9.0.4/trec_eval -c -m recall.1000 src/main/resources/topics-and-qrels/qrels.msmarco-doc.dev.txt runs/run.msmarco-doc.bm25-default+rm3.topics.msmarco-doc.dev.txt\n",
    "\n",
    "tools/eval/trec_eval.9.0.4/trec_eval -c -m map src/main/resources/topics-and-qrels/qrels.msmarco-doc.dev.txt runs/run.msmarco-doc.bm25-default+rocchio.topics.msmarco-doc.dev.txt\n",
    "tools/eval/trec_eval.9.0.4/trec_eval -c -M 100 -m recip_rank src/main/resources/topics-and-qrels/qrels.msmarco-doc.dev.txt runs/run.msmarco-doc.bm25-default+rocchio.topics.msmarco-doc.dev.txt\n",
    "tools/eval/trec_eval.9.0.4/trec_eval -c -m recall.100 src/main/resources/topics-and-qrels/qrels.msmarco-doc.dev.txt runs/run.msmarco-doc.bm25-default+rocchio.topics.msmarco-doc.dev.txt\n",
    "tools/eval/trec_eval.9.0.4/trec_eval -c -m recall.1000 src/main/resources/topics-and-qrels/qrels.msmarco-doc.dev.txt runs/run.msmarco-doc.bm25-default+rocchio.topics.msmarco-doc.dev.txt\n",
    "\n",
    "tools/eval/trec_eval.9.0.4/trec_eval -c -m map src/main/resources/topics-and-qrels/qrels.msmarco-doc.dev.txt runs/run.msmarco-doc.bm25-default+rocchio-neg.topics.msmarco-doc.dev.txt\n",
    "tools/eval/trec_eval.9.0.4/trec_eval -c -M 100 -m recip_rank src/main/resources/topics-and-qrels/qrels.msmarco-doc.dev.txt runs/run.msmarco-doc.bm25-default+rocchio-neg.topics.msmarco-doc.dev.txt\n",
    "tools/eval/trec_eval.9.0.4/trec_eval -c -m recall.100 src/main/resources/topics-and-qrels/qrels.msmarco-doc.dev.txt runs/run.msmarco-doc.bm25-default+rocchio-neg.topics.msmarco-doc.dev.txt\n",
    "tools/eval/trec_eval.9.0.4/trec_eval -c -m recall.1000 src/main/resources/topics-and-qrels/qrels.msmarco-doc.dev.txt runs/run.msmarco-doc.bm25-default+rocchio-neg.topics.msmarco-doc.dev.txt\n",
    "\n",
    "tools/eval/trec_eval.9.0.4/trec_eval -c -m map src/main/resources/topics-and-qrels/qrels.msmarco-doc.dev.txt runs/run.msmarco-doc.bm25-default+ax.topics.msmarco-doc.dev.txt\n",
    "tools/eval/trec_eval.9.0.4/trec_eval -c -M 100 -m recip_rank src/main/resources/topics-and-qrels/qrels.msmarco-doc.dev.txt runs/run.msmarco-doc.bm25-default+ax.topics.msmarco-doc.dev.txt\n",
    "tools/eval/trec_eval.9.0.4/trec_eval -c -m recall.100 src/main/resources/topics-and-qrels/qrels.msmarco-doc.dev.txt runs/run.msmarco-doc.bm25-default+ax.topics.msmarco-doc.dev.txt\n",
    "tools/eval/trec_eval.9.0.4/trec_eval -c -m recall.1000 src/main/resources/topics-and-qrels/qrels.msmarco-doc.dev.txt runs/run.msmarco-doc.bm25-default+ax.topics.msmarco-doc.dev.txt\n",
    "\n",
    "tools/eval/trec_eval.9.0.4/trec_eval -c -m map src/main/resources/topics-and-qrels/qrels.msmarco-doc.dev.txt runs/run.msmarco-doc.bm25-default+prf.topics.msmarco-doc.dev.txt\n",
    "tools/eval/trec_eval.9.0.4/trec_eval -c -M 100 -m recip_rank src/main/resources/topics-and-qrels/qrels.msmarco-doc.dev.txt runs/run.msmarco-doc.bm25-default+prf.topics.msmarco-doc.dev.txt\n",
    "tools/eval/trec_eval.9.0.4/trec_eval -c -m recall.100 src/main/resources/topics-and-qrels/qrels.msmarco-doc.dev.txt runs/run.msmarco-doc.bm25-default+prf.topics.msmarco-doc.dev.txt\n",
    "tools/eval/trec_eval.9.0.4/trec_eval -c -m recall.1000 src/main/resources/topics-and-qrels/qrels.msmarco-doc.dev.txt runs/run.msmarco-doc.bm25-default+prf.topics.msmarco-doc.dev.txt\n",
    "\n",
    "tools/eval/trec_eval.9.0.4/trec_eval -c -m map src/main/resources/topics-and-qrels/qrels.msmarco-doc.dev.txt runs/run.msmarco-doc.bm25-tuned.topics.msmarco-doc.dev.txt\n",
    "tools/eval/trec_eval.9.0.4/trec_eval -c -M 100 -m recip_rank src/main/resources/topics-and-qrels/qrels.msmarco-doc.dev.txt runs/run.msmarco-doc.bm25-tuned.topics.msmarco-doc.dev.txt\n",
    "tools/eval/trec_eval.9.0.4/trec_eval -c -m recall.100 src/main/resources/topics-and-qrels/qrels.msmarco-doc.dev.txt runs/run.msmarco-doc.bm25-tuned.topics.msmarco-doc.dev.txt\n",
    "tools/eval/trec_eval.9.0.4/trec_eval -c -m recall.1000 src/main/resources/topics-and-qrels/qrels.msmarco-doc.dev.txt runs/run.msmarco-doc.bm25-tuned.topics.msmarco-doc.dev.txt\n",
    "\n",
    "tools/eval/trec_eval.9.0.4/trec_eval -c -m map src/main/resources/topics-and-qrels/qrels.msmarco-doc.dev.txt runs/run.msmarco-doc.bm25-tuned+rm3.topics.msmarco-doc.dev.txt\n",
    "tools/eval/trec_eval.9.0.4/trec_eval -c -M 100 -m recip_rank src/main/resources/topics-and-qrels/qrels.msmarco-doc.dev.txt runs/run.msmarco-doc.bm25-tuned+rm3.topics.msmarco-doc.dev.txt\n",
    "tools/eval/trec_eval.9.0.4/trec_eval -c -m recall.100 src/main/resources/topics-and-qrels/qrels.msmarco-doc.dev.txt runs/run.msmarco-doc.bm25-tuned+rm3.topics.msmarco-doc.dev.txt\n",
    "tools/eval/trec_eval.9.0.4/trec_eval -c -m recall.1000 src/main/resources/topics-and-qrels/qrels.msmarco-doc.dev.txt runs/run.msmarco-doc.bm25-tuned+rm3.topics.msmarco-doc.dev.txt\n",
    "\n",
    "tools/eval/trec_eval.9.0.4/trec_eval -c -m map src/main/resources/topics-and-qrels/qrels.msmarco-doc.dev.txt runs/run.msmarco-doc.bm25-tuned+rocchio.topics.msmarco-doc.dev.txt\n",
    "tools/eval/trec_eval.9.0.4/trec_eval -c -M 100 -m recip_rank src/main/resources/topics-and-qrels/qrels.msmarco-doc.dev.txt runs/run.msmarco-doc.bm25-tuned+rocchio.topics.msmarco-doc.dev.txt\n",
    "tools/eval/trec_eval.9.0.4/trec_eval -c -m recall.100 src/main/resources/topics-and-qrels/qrels.msmarco-doc.dev.txt runs/run.msmarco-doc.bm25-tuned+rocchio.topics.msmarco-doc.dev.txt\n",
    "tools/eval/trec_eval.9.0.4/trec_eval -c -m recall.1000 src/main/resources/topics-and-qrels/qrels.msmarco-doc.dev.txt runs/run.msmarco-doc.bm25-tuned+rocchio.topics.msmarco-doc.dev.txt\n",
    "\n",
    "tools/eval/trec_eval.9.0.4/trec_eval -c -m map src/main/resources/topics-and-qrels/qrels.msmarco-doc.dev.txt runs/run.msmarco-doc.bm25-tuned+rocchio-neg.topics.msmarco-doc.dev.txt\n",
    "tools/eval/trec_eval.9.0.4/trec_eval -c -M 100 -m recip_rank src/main/resources/topics-and-qrels/qrels.msmarco-doc.dev.txt runs/run.msmarco-doc.bm25-tuned+rocchio-neg.topics.msmarco-doc.dev.txt\n",
    "tools/eval/trec_eval.9.0.4/trec_eval -c -m recall.100 src/main/resources/topics-and-qrels/qrels.msmarco-doc.dev.txt runs/run.msmarco-doc.bm25-tuned+rocchio-neg.topics.msmarco-doc.dev.txt\n",
    "tools/eval/trec_eval.9.0.4/trec_eval -c -m recall.1000 src/main/resources/topics-and-qrels/qrels.msmarco-doc.dev.txt runs/run.msmarco-doc.bm25-tuned+rocchio-neg.topics.msmarco-doc.dev.txt\n",
    "\n",
    "tools/eval/trec_eval.9.0.4/trec_eval -c -m map src/main/resources/topics-and-qrels/qrels.msmarco-doc.dev.txt runs/run.msmarco-doc.bm25-tuned+ax.topics.msmarco-doc.dev.txt\n",
    "tools/eval/trec_eval.9.0.4/trec_eval -c -M 100 -m recip_rank src/main/resources/topics-and-qrels/qrels.msmarco-doc.dev.txt runs/run.msmarco-doc.bm25-tuned+ax.topics.msmarco-doc.dev.txt\n",
    "tools/eval/trec_eval.9.0.4/trec_eval -c -m recall.100 src/main/resources/topics-and-qrels/qrels.msmarco-doc.dev.txt runs/run.msmarco-doc.bm25-tuned+ax.topics.msmarco-doc.dev.txt\n",
    "tools/eval/trec_eval.9.0.4/trec_eval -c -m recall.1000 src/main/resources/topics-and-qrels/qrels.msmarco-doc.dev.txt runs/run.msmarco-doc.bm25-tuned+ax.topics.msmarco-doc.dev.txt\n",
    "\n",
    "tools/eval/trec_eval.9.0.4/trec_eval -c -m map src/main/resources/topics-and-qrels/qrels.msmarco-doc.dev.txt runs/run.msmarco-doc.bm25-tuned+prf.topics.msmarco-doc.dev.txt\n",
    "tools/eval/trec_eval.9.0.4/trec_eval -c -M 100 -m recip_rank src/main/resources/topics-and-qrels/qrels.msmarco-doc.dev.txt runs/run.msmarco-doc.bm25-tuned+prf.topics.msmarco-doc.dev.txt\n",
    "tools/eval/trec_eval.9.0.4/trec_eval -c -m recall.100 src/main/resources/topics-and-qrels/qrels.msmarco-doc.dev.txt runs/run.msmarco-doc.bm25-tuned+prf.topics.msmarco-doc.dev.txt\n",
    "tools/eval/trec_eval.9.0.4/trec_eval -c -m recall.1000 src/main/resources/topics-and-qrels/qrels.msmarco-doc.dev.txt runs/run.msmarco-doc.bm25-tuned+prf.topics.msmarco-doc.dev.txt\n",
    "\n",
    "tools/eval/trec_eval.9.0.4/trec_eval -c -m map src/main/resources/topics-and-qrels/qrels.msmarco-doc.dev.txt runs/run.msmarco-doc.bm25-tuned2.topics.msmarco-doc.dev.txt\n",
    "tools/eval/trec_eval.9.0.4/trec_eval -c -M 100 -m recip_rank src/main/resources/topics-and-qrels/qrels.msmarco-doc.dev.txt runs/run.msmarco-doc.bm25-tuned2.topics.msmarco-doc.dev.txt\n",
    "tools/eval/trec_eval.9.0.4/trec_eval -c -m recall.100 src/main/resources/topics-and-qrels/qrels.msmarco-doc.dev.txt runs/run.msmarco-doc.bm25-tuned2.topics.msmarco-doc.dev.txt\n",
    "tools/eval/trec_eval.9.0.4/trec_eval -c -m recall.1000 src/main/resources/topics-and-qrels/qrels.msmarco-doc.dev.txt runs/run.msmarco-doc.bm25-tuned2.topics.msmarco-doc.dev.txt\n",
    "\n",
    "tools/eval/trec_eval.9.0.4/trec_eval -c -m map src/main/resources/topics-and-qrels/qrels.msmarco-doc.dev.txt runs/run.msmarco-doc.bm25-tuned2+rm3.topics.msmarco-doc.dev.txt\n",
    "tools/eval/trec_eval.9.0.4/trec_eval -c -M 100 -m recip_rank src/main/resources/topics-and-qrels/qrels.msmarco-doc.dev.txt runs/run.msmarco-doc.bm25-tuned2+rm3.topics.msmarco-doc.dev.txt\n",
    "tools/eval/trec_eval.9.0.4/trec_eval -c -m recall.100 src/main/resources/topics-and-qrels/qrels.msmarco-doc.dev.txt runs/run.msmarco-doc.bm25-tuned2+rm3.topics.msmarco-doc.dev.txt\n",
    "tools/eval/trec_eval.9.0.4/trec_eval -c -m recall.1000 src/main/resources/topics-and-qrels/qrels.msmarco-doc.dev.txt runs/run.msmarco-doc.bm25-tuned2+rm3.topics.msmarco-doc.dev.txt\n",
    "\n",
    "tools/eval/trec_eval.9.0.4/trec_eval -c -m map src/main/resources/topics-and-qrels/qrels.msmarco-doc.dev.txt runs/run.msmarco-doc.bm25-tuned2+rocchio.topics.msmarco-doc.dev.txt\n",
    "tools/eval/trec_eval.9.0.4/trec_eval -c -M 100 -m recip_rank src/main/resources/topics-and-qrels/qrels.msmarco-doc.dev.txt runs/run.msmarco-doc.bm25-tuned2+rocchio.topics.msmarco-doc.dev.txt\n",
    "tools/eval/trec_eval.9.0.4/trec_eval -c -m recall.100 src/main/resources/topics-and-qrels/qrels.msmarco-doc.dev.txt runs/run.msmarco-doc.bm25-tuned2+rocchio.topics.msmarco-doc.dev.txt\n",
    "tools/eval/trec_eval.9.0.4/trec_eval -c -m recall.1000 src/main/resources/topics-and-qrels/qrels.msmarco-doc.dev.txt runs/run.msmarco-doc.bm25-tuned2+rocchio.topics.msmarco-doc.dev.txt\n",
    "\n",
    "tools/eval/trec_eval.9.0.4/trec_eval -c -m map src/main/resources/topics-and-qrels/qrels.msmarco-doc.dev.txt runs/run.msmarco-doc.bm25-tuned2+rocchio-neg.topics.msmarco-doc.dev.txt\n",
    "tools/eval/trec_eval.9.0.4/trec_eval -c -M 100 -m recip_rank src/main/resources/topics-and-qrels/qrels.msmarco-doc.dev.txt runs/run.msmarco-doc.bm25-tuned2+rocchio-neg.topics.msmarco-doc.dev.txt\n",
    "tools/eval/trec_eval.9.0.4/trec_eval -c -m recall.100 src/main/resources/topics-and-qrels/qrels.msmarco-doc.dev.txt runs/run.msmarco-doc.bm25-tuned2+rocchio-neg.topics.msmarco-doc.dev.txt\n",
    "tools/eval/trec_eval.9.0.4/trec_eval -c -m recall.1000 src/main/resources/topics-and-qrels/qrels.msmarco-doc.dev.txt runs/run.msmarco-doc.bm25-tuned2+rocchio-neg.topics.msmarco-doc.dev.txt\n",
    "\n",
    "tools/eval/trec_eval.9.0.4/trec_eval -c -m map src/main/resources/topics-and-qrels/qrels.msmarco-doc.dev.txt runs/run.msmarco-doc.bm25-tuned2+ax.topics.msmarco-doc.dev.txt\n",
    "tools/eval/trec_eval.9.0.4/trec_eval -c -M 100 -m recip_rank src/main/resources/topics-and-qrels/qrels.msmarco-doc.dev.txt runs/run.msmarco-doc.bm25-tuned2+ax.topics.msmarco-doc.dev.txt\n",
    "tools/eval/trec_eval.9.0.4/trec_eval -c -m recall.100 src/main/resources/topics-and-qrels/qrels.msmarco-doc.dev.txt runs/run.msmarco-doc.bm25-tuned2+ax.topics.msmarco-doc.dev.txt\n",
    "tools/eval/trec_eval.9.0.4/trec_eval -c -m recall.1000 src/main/resources/topics-and-qrels/qrels.msmarco-doc.dev.txt runs/run.msmarco-doc.bm25-tuned2+ax.topics.msmarco-doc.dev.txt\n",
    "\n",
    "tools/eval/trec_eval.9.0.4/trec_eval -c -m map src/main/resources/topics-and-qrels/qrels.msmarco-doc.dev.txt runs/run.msmarco-doc.bm25-tuned2+prf.topics.msmarco-doc.dev.txt\n",
    "tools/eval/trec_eval.9.0.4/trec_eval -c -M 100 -m recip_rank src/main/resources/topics-and-qrels/qrels.msmarco-doc.dev.txt runs/run.msmarco-doc.bm25-tuned2+prf.topics.msmarco-doc.dev.txt\n",
    "tools/eval/trec_eval.9.0.4/trec_eval -c -m recall.100 src/main/resources/topics-and-qrels/qrels.msmarco-doc.dev.txt runs/run.msmarco-doc.bm25-tuned2+prf.topics.msmarco-doc.dev.txt\n",
    "tools/eval/trec_eval.9.0.4/trec_eval -c -m recall.1000 src/main/resources/topics-and-qrels/qrels.msmarco-doc.dev.txt runs/run.msmarco-doc.bm25-tuned2+prf.topics.msmarco-doc.dev.txt"
   ]
  }
 ],
 "metadata": {
  "kernelspec": {
   "display_name": "paddle",
   "language": "python",
   "name": "python3"
  },
  "language_info": {
   "codemirror_mode": {
    "name": "ipython",
    "version": 3
   },
   "file_extension": ".py",
   "mimetype": "text/x-python",
   "name": "python",
   "nbconvert_exporter": "python",
   "pygments_lexer": "ipython3",
   "version": "3.7.13"
  },
  "orig_nbformat": 4,
  "vscode": {
   "interpreter": {
    "hash": "29d96aa608a8786bbfe74887858c56c6f424e470a2ad9df355a19a65315327fc"
   }
  }
 },
 "nbformat": 4,
 "nbformat_minor": 2
}
